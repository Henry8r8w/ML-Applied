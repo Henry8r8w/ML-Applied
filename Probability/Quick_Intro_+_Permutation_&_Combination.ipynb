{
  "nbformat": 4,
  "nbformat_minor": 0,
  "metadata": {
    "colab": {
      "provenance": []
    },
    "kernelspec": {
      "name": "python3",
      "display_name": "Python 3"
    },
    "language_info": {
      "name": "python"
    }
  },
  "cells": [
    {
      "cell_type": "code",
      "execution_count": null,
      "metadata": {
        "id": "bFp9y2iVEo39"
      },
      "outputs": [],
      "source": []
    },
    {
      "cell_type": "markdown",
      "source": [
        "## Motivation\n",
        "Probability and combinatorics help us count possibilities and predict outcomes in uncertain scenarios — from rolling dice to ranking players. Mastering them means unlocking powerful tools for logic, games, data, and algorithms.\n",
        "### Probabilitiy\n",
        "$$P (\\text{event}) = \\frac{\\text{num(favorable cases)})}{\\text{num(total cases)}}$$\n",
        "\n",
        "Example: Given **`event`** is \"sum of dots = 10\" when two dices has been rolled, what is the $P(\\text{event})$\n",
        "\n",
        "$$P(\\text{event})  = \\text{len((4,6), (5,5), (6,4))} / 36 = 1 / 12$$\n",
        "\n",
        "### Combinatorics & Permutation & Combination\n",
        "**Combinatorics**\n",
        "- **Definition**: the branch of mathmetics deal with **`counting`** from a finite structure\n",
        "- Set: {2,3,1,8} = {1,2,3,8}\n",
        "  - Order deos not matter\n",
        "- Tuple: (1,2,3,8) $\\neq$ (2,3,8,1)\n",
        "  - Order does matter\n",
        "\n",
        "**Permutation**\n",
        "- **Definition**: the length (n) of all possible **`ordering`** of a set in n-tuple manner\n",
        "- Math Representation: $n! = n(n-1)(n-2)\\cdot...\\cdot 3 \\cdot 2 \\cdot 1$\n",
        "\n",
        "Stirling approximation (asympotoic approxmiation of factorial)\n",
        "$$n! \\approx (2\\pi n)^{1/2} \\left(\\frac{n}{e}\\right)^n$$\n",
        "\n",
        "**Combination**\n",
        "- **Definition**: length of subset of size `k` of a set of `n` element\n",
        "- Math Representation: $\\text{set}\\{1,...,n\\}, \\text{subset}\\{1,...k\\} \\ \\text{where} \\ k < n$\n",
        "\n",
        "$$\\left(\\frac{n}{k} \\right) = \\frac{n!}{k!(n - k)!}$$\n",
        "\n",
        "## Some Facts\n",
        "\n",
        "$$ {n \\choose 0}  = 1 \\rightarrow \\frac{n!}{0! \\cdot n!} = 1$$\n",
        "\n",
        "$$ {n \\choose 1} = 1 \\rightarrow \\frac{n!}{1! \\cdot (n - 1)!} = n$$\n",
        "- Note: your  fact(n) / fact(n - 1) remove all the factorial n - 1 before multiplied to n, so the expression become n / 1! = n\n",
        "\n",
        "$$ {n \\choose n - k} = { n \\choose k} \\rightarrow \\frac{n!}{k!( n - k)!} = \\frac{n!}{(n-k)!(n - (n-k)!)}$$\n",
        "\n",
        "$${n \\choose n - 1} = n \\rightarrow \\frac{n!}{(n - 1)!(n - (n - 1))!} = n$$\n",
        "\n",
        "## Practice Problems\n",
        "### Scenario 1: Given 5 female and 4 male are playing at a rank-up game\n",
        "\n",
        "(i) how many rankings will there b?\n",
        "  - Ans: $9!$\n",
        "  - Reasoning: the question ask for all possible combination\n",
        "\n",
        "(ii) how about if we seperate males and female into 2 groups?\n",
        "  - Ans: $5! \\cdot 4!$\n",
        "  - Reasoning: the question ask for seperate all possible combination and their cross-grouping\n",
        "\n",
        "(iii) how about if one of the female ranking is fixed in the serpate groups?\n",
        "  - Ans: $4! \\cdot 4!$\n",
        "  - Reasoning: the question give us remaining 4 and 4 options to permutate and cross-grouping when a female's ordering cannot be changed\n",
        "\n",
        "\n",
        "### Scenario 2: How many ways can we color sides of square with 4 differnet colors {r,g,b,y} on the square where each side should have unique color. Two total coloring of a square would be consider the same if it can be achieved through rotation.\n",
        "\n",
        "- Ans: $4! / 4 = 3! = 6$\n",
        "- Reasoning: **permutation** in fact(4) case is to find all possible ordering of the (r,g,b,y) from \\{r,g,b,y} and to remove the count of rotation (len(all possible ordering)/4)\n",
        "\n",
        "### Senario 2.1:  How many ways can we color sides of square with 3 differnet colors {r,g,b} on the square where each side should have unique color. Two total coloring of a square would be consider the same if it can be achieved through rotation.\n",
        "\n",
        "- Ans: $(3 \\cdot {4 \\choose 2} ) / 4 = 9$\n",
        "- Reasoning: you have three colors to use to perform 2 side repetitions out of 4 sides, so you have 3 multiplied to the **combination** (`n` choose `k`) -- length of subset of size `k` of a `n` element\n"
      ],
      "metadata": {
        "id": "xzQ7d0R6EzWW"
      }
    },
    {
      "cell_type": "code",
      "source": [
        "\"\"\"\n",
        "implementation of fact(n)\n",
        "\"\"\"\n",
        "import math\n",
        "def fact(n):\n",
        "  if n == 0:\n",
        "    return 1\n",
        "  elif n == 1:\n",
        "    return 1\n",
        "  else:\n",
        "    return n * fact(n - 1)\n",
        "def test(n):\n",
        "  for i in range(n+1):\n",
        "    bool_ = fact(i) == math.factorial(i) # assert()\n",
        "    if bool_ == False:\n",
        "      print(f'At step {i}, we have an assertion fail')\n",
        "    else:\n",
        "      print(f'{i}! is computed sucessfully')\n",
        "      print(fact(i))\n",
        "test(50)\n",
        "'''\n",
        "Bottom-up implmentation\n",
        "- if n = 0 return 0 (0! is a valid factorial), elif n == 1 return 1\n",
        "- else: we want n * fact(n - 1)\n",
        "    - this way, our n will progressively subtract and multiply until reaching to base-cases (if-elif)\n",
        "'''"
      ],
      "metadata": {
        "colab": {
          "base_uri": "https://localhost:8080/",
          "height": 955
        },
        "id": "ETEEZvJAZfYd",
        "outputId": "8c9fd633-a78d-4c37-c909-324daadb1dac"
      },
      "execution_count": 20,
      "outputs": [
        {
          "output_type": "stream",
          "name": "stdout",
          "text": [
            "At step 0, we have an assertion fail\n",
            "At step 1, we have an assertion fail\n",
            "At step 2, we have an assertion fail\n",
            "At step 3, we have an assertion fail\n",
            "At step 4, we have an assertion fail\n",
            "At step 5, we have an assertion fail\n",
            "At step 6, we have an assertion fail\n",
            "At step 7, we have an assertion fail\n",
            "At step 8, we have an assertion fail\n",
            "At step 9, we have an assertion fail\n",
            "At step 10, we have an assertion fail\n",
            "At step 11, we have an assertion fail\n",
            "At step 12, we have an assertion fail\n",
            "At step 13, we have an assertion fail\n",
            "At step 14, we have an assertion fail\n",
            "At step 15, we have an assertion fail\n",
            "At step 16, we have an assertion fail\n",
            "At step 17, we have an assertion fail\n",
            "At step 18, we have an assertion fail\n",
            "At step 19, we have an assertion fail\n",
            "At step 20, we have an assertion fail\n",
            "At step 21, we have an assertion fail\n",
            "At step 22, we have an assertion fail\n",
            "At step 23, we have an assertion fail\n",
            "At step 24, we have an assertion fail\n",
            "At step 25, we have an assertion fail\n",
            "At step 26, we have an assertion fail\n",
            "At step 27, we have an assertion fail\n",
            "At step 28, we have an assertion fail\n",
            "At step 29, we have an assertion fail\n",
            "At step 30, we have an assertion fail\n",
            "At step 31, we have an assertion fail\n",
            "At step 32, we have an assertion fail\n",
            "At step 33, we have an assertion fail\n",
            "At step 34, we have an assertion fail\n",
            "At step 35, we have an assertion fail\n",
            "At step 36, we have an assertion fail\n",
            "At step 37, we have an assertion fail\n",
            "At step 38, we have an assertion fail\n",
            "At step 39, we have an assertion fail\n",
            "At step 40, we have an assertion fail\n",
            "At step 41, we have an assertion fail\n",
            "At step 42, we have an assertion fail\n",
            "At step 43, we have an assertion fail\n",
            "At step 44, we have an assertion fail\n",
            "At step 45, we have an assertion fail\n",
            "At step 46, we have an assertion fail\n",
            "At step 47, we have an assertion fail\n",
            "At step 48, we have an assertion fail\n",
            "At step 49, we have an assertion fail\n",
            "At step 50, we have an assertion fail\n"
          ]
        },
        {
          "output_type": "execute_result",
          "data": {
            "text/plain": [
              "'\\nBottom-up implmentation\\n- if n = 0 return 0 (0! is a valid factorial), elif n == 1 return 1\\n- else: we want n * fact(n - 1)\\n    - this way, our n will progressively subtract and multiply until reaching to base-cases (if-elif)\\n'"
            ],
            "application/vnd.google.colaboratory.intrinsic+json": {
              "type": "string"
            }
          },
          "metadata": {},
          "execution_count": 20
        }
      ]
    },
    {
      "cell_type": "code",
      "source": [],
      "metadata": {
        "id": "ZovGIu2EdfaJ"
      },
      "execution_count": null,
      "outputs": []
    }
  ]
}