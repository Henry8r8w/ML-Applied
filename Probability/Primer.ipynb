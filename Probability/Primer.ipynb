{
  "nbformat": 4,
  "nbformat_minor": 0,
  "metadata": {
    "colab": {
      "provenance": [],
      "toc_visible": true
    },
    "kernelspec": {
      "name": "python3",
      "display_name": "Python 3"
    },
    "language_info": {
      "name": "python"
    }
  },
  "cells": [
    {
      "cell_type": "markdown",
      "source": [
        "# Motivation\n",
        "Probability and combinatorics help us count possibilities and predict outcomes in uncertain scenarios — from rolling dice to ranking players. Mastering them means unlocking powerful tools for logic, games, data, and algorithms.\n",
        "## Probability of (Event) = C $\\in$ {0,1} Expression\n",
        "$$P (\\text{event}) = \\frac{\\text{num(favorable cases)}}{\\text{num(total cases)}}$$\n",
        "\n",
        "Example: Given **`event`** is \"sum of dots = 10\" when two dices have been rolled, what is the $P(\\text{event})$\n",
        "\n",
        "$$P(\\text{event})  = \\text{len((4,6), (5,5), (6,4))} / 36 = 1 / 12$$\n",
        "\n",
        "## Combinatorics & Permutation & Combination\n",
        "**Combinatorics**\n",
        "- **Definition**: the branch of mathmetics deal with **`counting`** from a finite structure\n",
        "- Set: {2,3,1,8} = {1,2,3,8}\n",
        "  - Order deos not matter\n",
        "- Tuple: (1,2,3,8) $\\neq$ (2,3,8,1)\n",
        "  - Order does matter\n",
        "\n",
        "**Permutation**\n",
        "- **Definition**: the length (n) of all possible **`ordering`** of a set in n-tuple manner\n",
        "- Math Representation: $n! = n(n-1)(n-2)\\cdot...\\cdot 3 \\cdot 2 \\cdot 1$\n",
        "\n",
        "Stirling approximation (asympotoic approxmiation of factorial)\n",
        "$$n! \\approx (2\\pi n)^{1/2} \\left(\\frac{n}{e}\\right)^n$$\n",
        "\n",
        "**Combination**\n",
        "- **Definition**: length of subset of size `k` of a set of `n` element\n",
        "- Math Representation: $\\text{set}\\{1,...,n\\}, \\text{subset}\\{1,...k\\} \\ \\text{where} \\ k < n$\n",
        "\n",
        "$$\\left(\\frac{n}{k} \\right) = \\frac{n!}{k!(n - k)!}$$\n",
        "\n",
        "### Some Facts\n",
        "\n",
        "$$ {n \\choose 0}  = 1 \\rightarrow \\frac{n!}{0! \\cdot n!} = 1$$\n",
        "\n",
        "$$ {n \\choose 1} = 1 \\rightarrow \\frac{n!}{1! \\cdot (n - 1)!} = n$$\n",
        "- Note: your  fact(n) / fact(n - 1) remove all the factorial n - 1 before multiplied to n, so the expression become n / 1! = n\n",
        "\n",
        "$$ {n \\choose n - k} = { n \\choose k} \\rightarrow \\frac{n!}{k!( n - k)!} = \\frac{n!}{(n-k)!(n - (n-k)!)}$$\n",
        "\n",
        "$${n \\choose n - 1} = n \\rightarrow \\frac{n!}{(n - 1)!(n - (n - 1))!} = n$$\n",
        "\n",
        "## Practice Problems\n",
        "Scenario 1: Given 5 female and 4 male are playing at a rank-up game\n",
        "\n",
        "(i) how many rankings will there be?\n",
        "  - Ans: $9!$\n",
        "  - Reasoning: the question ask for all possible combination\n",
        "\n",
        "(ii) how about if we seperate males and female into 2 groups?\n",
        "  - Ans: $5! \\cdot 4!$\n",
        "  - Reasoning: the question ask for seperate all possible combination and their cross-grouping\n",
        "\n",
        "(iii) how about if one of the female ranking is fixed in the serpate groups?\n",
        "  - Ans: $4! \\cdot 4!$\n",
        "  - Reasoning: the question give us remaining 4 and 4 options to permutate and cross-grouping when a female's ordering cannot be changed\n",
        "\n",
        "\n",
        "Scenario 2: How many ways can we color sides of square with 4 differnet colors {r,g,b,y} on the square where each side should have unique color. Two total coloring of a square would be consider the same if it can be achieved through rotation.\n",
        "\n",
        "- Ans: $4! / 4 = 3! = 6$\n",
        "- Reasoning: **permutation** in fact(4) case is to find all possible ordering of the (r,g,b,y) from \\{r,g,b,y} and to remove the count of rotation (len(all possible ordering)/4)\n",
        "\n",
        "Senario 2.1:  How many ways can we color sides of square with 3 differnet colors {r,g,b} on the square where each side should have unique color. Two total coloring of a square would be consider the same if it can be achieved through rotation.\n",
        "\n",
        "- Ans: $(3 \\cdot {4 \\choose 2} ) / 4 = 9$\n",
        "- Reasoning: you have three colors to use to perform 2 side repetitions out of 4 sides, so you have 3 multiplied to the **combination** (`n choose k`) -- length of subset of size `k` of a `n` element\n"
      ],
      "metadata": {
        "id": "xzQ7d0R6EzWW"
      }
    },
    {
      "cell_type": "code",
      "source": [
        "\"\"\"\n",
        "fact(n) top-down implmentation\n",
        "- if n = 0 return 0 (0! is a valid factorial), elif n == 1 return 1\n",
        "- else: we want n * fact(n - 1)\n",
        "    - this way, our n will progressively subtract and multiply until reaching to base-cases (if-elif)\n",
        "\"\"\"\n",
        "import math\n",
        "def fact(n):\n",
        "  if n == 0:\n",
        "    return 1\n",
        "  elif n == 1:\n",
        "    return 1\n",
        "  else:\n",
        "    return n * fact(n - 1)\n",
        "def test(n):\n",
        "  for i in range(n+1):\n",
        "    bool_ = (fact(i) == math.factorial(i)) # assert()\n",
        "    if bool_ == False:\n",
        "      return f'At fact({i}), we have an assertion fail'\n",
        "    else:\n",
        "       comp = [str(i) for i in range(n, -1, -1)]\n",
        "       return f'{\"*\".join(comp)} has been computed sucessfully!'\n",
        "\n",
        "test(5)\n",
        "\n"
      ],
      "metadata": {
        "colab": {
          "base_uri": "https://localhost:8080/",
          "height": 35
        },
        "id": "ETEEZvJAZfYd",
        "outputId": "51d5946e-1815-4480-d9ed-c7e8aa72f1a0"
      },
      "execution_count": 2,
      "outputs": [
        {
          "output_type": "execute_result",
          "data": {
            "text/plain": [
              "'5*4*3*2*1*0 has been computed sucessfully!'"
            ],
            "application/vnd.google.colaboratory.intrinsic+json": {
              "type": "string"
            }
          },
          "metadata": {},
          "execution_count": 2
        }
      ]
    },
    {
      "cell_type": "markdown",
      "source": [
        "## Pascal Rule\n",
        "\n",
        "$$ {n \\choose k} = \\frac{n!} {k! (n - k)!} ,  \\ \\text{where} \\ 0 \\leq k \\leq n$$\n",
        "\n",
        "### Expression\n",
        "$$ {n \\choose k} = {n -1 \\choose k-1} + {n-1 \\choose k}, \\text{where j:1}\\rightarrow \\frac{n!}{(k-1)!(n- (k-1))!} + \\frac{n- 1!}{(k)!(n-k)!} \\rightarrow … $$\n",
        "\n",
        "The proofing through expression can be duanty. Therefore, we can simply to use \"intuition\"\n",
        "\n",
        "### Intuition\n",
        "Given a scenario of **`k`** need to be chosen our of **`n`** with **`fixed j`** element, there are two event to evaluate\n",
        "\n",
        "- Event 1:**`fixed j`** is considered within the counting\n",
        "  - $ { n - j \\choose k}$\n",
        "\n",
        "- Event 2: **`fixed j`** is not considered within the counting\n",
        "  - $ { n - j \\choose k - j}$\n",
        "\n",
        "Since the two events are mutually exlcusive and exhaustive of n, we would say their union should compose of `n choose k`\n",
        "\n",
        "**Notes**:\n",
        "- the + operation is represented under prinpciple of union (U) between two events\n",
        "\n",
        "### Practice Problems\n",
        "\n",
        "Scenario 1: We have 5 feamles and 4 males need to select for a extra-terrail meeting consortium. We would like to have 3 female and 2 males to be represented in the consortium .How many combinations do we have if ...\n",
        "\n",
        "(i) There is no restriction?\n",
        "  - Ans: $ {5 \\choose  3} \\cdot { 4 \\choose 2}$\n",
        "  - Reasoning: Straightfowardly, we are choosing  the combination of 3 out of 5 and 2 out of 4 and find the corss-multiples\n",
        "\n",
        "(ii) 2 males do not want to be repsresnted together ?\n",
        "  - Ans: $ {5 \\choose 3} \\cdot { 4 \\choose 2} - {5 \\choose 3} {2 \\choose 2}$\n",
        "  - Reasoning: We subtract  the case where the two males that do not want to be together together from all combination calculated from \"no restriction\" to get the compliment\n",
        "\n",
        "(iii) 1 male and 1 feamle do not want to be represented together?\n",
        "  - Ans: $  {5 \\choose  3} \\cdot { 4 \\choose 2} -  { 4 \\choose 2} \\cdot {3 \\choose 1}$\n",
        "  - Reasoning: We subtract the case where the two males and feamles that do not want to be together together ( `n - j_1 choose k - j_1` * `n - j_2 choose k - j_2`) from all combination calculated from \"no restriction\" to get the compliment\n",
        "\n",
        "\n",
        "**Notes**:\n",
        "- Notice that i is the prequisite for ii and iii. One must obtain the unresticted combiniation (aka. all combination) before performing \"complementing\".\n"
      ],
      "metadata": {
        "id": "Mv16OZn-XDvy"
      }
    },
    {
      "cell_type": "code",
      "source": [
        "from typing import List\n",
        "\n",
        "def fact(n):\n",
        "  if n == 0:\n",
        "    return 1\n",
        "  elif n == 1:\n",
        "    return 1\n",
        "  else:\n",
        "    return n * fact(n - 1)\n",
        "\n",
        "def comb(n, k):\n",
        "    res = lambda n, k: fact(n) / (fact(k) * fact(n - k))\n",
        "    return float(res(n,k))\n",
        "\n",
        "def pascal_tri(levels) -> List[List[str]]:\n",
        "    triangle = []\n",
        "    for row in range(levels + 1):\n",
        "        triangle.append([comb(row, column) for column in range(row + 1)])\n",
        "    return triangle\n",
        "\n",
        "\n",
        "def draw(nested_list):\n",
        "    last_ = len(nested_list)\n",
        "    for i in range(last_):\n",
        "        row = nested_list[i]\n",
        "        padding = \"  \" * (last_ - i - 1)\n",
        "        row_str = \"   \".join(str(x) for x in row)\n",
        "        print(padding + row_str)\n",
        "\n",
        "draw(pascal_tri(3))"
      ],
      "metadata": {
        "id": "Gqa7WnujXGAq",
        "colab": {
          "base_uri": "https://localhost:8080/"
        },
        "outputId": "549b2ee0-8267-43e1-b76b-c27e73aca8ac"
      },
      "execution_count": 3,
      "outputs": [
        {
          "output_type": "stream",
          "name": "stdout",
          "text": [
            "      1.0\n",
            "    1.0   1.0\n",
            "  1.0   2.0   1.0\n",
            "1.0   3.0   3.0   1.0\n"
          ]
        }
      ]
    },
    {
      "cell_type": "markdown",
      "source": [
        "## Binomial Theorem\n",
        "$$\n",
        "(x + y)^n = \\sum_{k=0}^{n} \\binom{n}{k} x^{n-k} y^k\n",
        "$$\n",
        "**Usage**: To induce polynomial coefficeint thorugh binomial coeffceitn (`n choose k`)\n",
        "\n",
        "**Example**\n",
        "- $\\text{bin(n: 5)}: (x + y)^5 = x^5 + 5x^4y + 10x^3y^2 + 10x^2y^3 + 5xy^4 + y^5$\n",
        "\n",
        "## Set Theory: Power Set\n",
        "**Definition**: The family of all subset of a set S, in notation of $2^S$\n",
        "\n",
        "**Example**\n",
        "- $S = \\{1, 3, 5\\};\\ 2^S = \\{\\emptyset, \\{1\\}, \\{3\\}, \\{5\\}, \\{1,3\\}, \\{1,5\\}, \\{3,5\\}, \\{1,3,5\\}\\}$\n",
        "\n",
        "**Terminology**\n",
        "- Cardinality: number of element in the set\n",
        "  - notaton: $|2^S|$\n",
        "  - exmaple: $S = \\{1, 3, 5\\}; |2^S| = 8$\n",
        "\n",
        "**Union, Intersection, and Subtraction**\n",
        "\n",
        "A $\\cup$ B: subset containing elements in A or B sets\n",
        "- example: A = {1,2,3,4,5}, B = {3,4,5,6,7}\n",
        "  - A union B: {1,2,3,4,5,6,7}\n",
        "\n",
        "A $\\cap$ B: subset containing elements in A and B sets\n",
        "- example: A = {1,2,3,4,5}, B = {3,4,5,6,7}\n",
        "  - A union B: {3,4,5}\n",
        "\n",
        "A $\\setminus$ B: subset containing elements in A but not B set\n",
        "\n"
      ],
      "metadata": {
        "id": "OXT6lfNsXIqX"
      }
    },
    {
      "cell_type": "code",
      "source": [
        "def bin_poly(n,k):\n",
        "  return \" + \".join([f'{comb(n,i)}x^{n - i}y^{i}' for i in range(k)])\n",
        "\n",
        "print(bin_poly(5, 3))"
      ],
      "metadata": {
        "id": "9Kcr7oHvXLeP",
        "colab": {
          "base_uri": "https://localhost:8080/"
        },
        "outputId": "34ed1be4-b865-4dac-bbbf-1f4643e56fb9"
      },
      "execution_count": 4,
      "outputs": [
        {
          "output_type": "stream",
          "name": "stdout",
          "text": [
            "1.0x^5y^0 + 5.0x^4y^1 + 10.0x^3y^2\n"
          ]
        }
      ]
    },
    {
      "cell_type": "markdown",
      "source": [
        "## Axiom of Porbability\n",
        "### Some facts to know\n",
        "Sample Space ($\\Omega$ ): Defined as the set that contains $\\omega_1,... \\omega_n$ (e.g., all outcomes)\n",
        "\n",
        "Outcome ($\\omega$): Defined as a single element within sample space $\\Omega$\n",
        "  - note: multiple outcomes may categorized into a **`event`**\n",
        "\n",
        "1. $A \\in F \\rightarrow A^{c} \\rightarrow F$\n",
        "  - C denotes compliment\n",
        "  - $A^c$ is the result of $\\Omega - A$\n",
        "\n",
        "2. If $\\Omega$ is a finite, then $F = 2^{\\Omega}$\n",
        "\n",
        "\n",
        "**Axioms**\n",
        "- $0 \\leq P(\\text{event}) \\leq 1$\n",
        "- If A_1, A_2, ..., A_n are mutually exclusive, then\n",
        "$$ P(\\prod^{\\infty}_{n = 1} A_n)= \\sum^{\\infty}_{n = 1} P(A_{n})$$\n",
        "\n",
        "**Colorrary**\n",
        "- $A \\cap A^c = 0$\n",
        "- $P(A) + P(A^c) = P(A \\cup A^c) = P(\\Omega) = 1\n",
        "  - $P(A^c) = 1 - P(A)$\n",
        "\n",
        "\n",
        "\n",
        "\n",
        "## Samplings (ex. picking balls from an Urn)\n",
        "### Random Sample with Replacement (+ Ordered)\n",
        "$$\\Omega = \\text{ {sequence of k numbers between 1 and n}}$$\n",
        "\n",
        "$$|\\Omega| = n^k$$\n",
        "\n",
        "### Random Sample without Replacement (+ Ordered)\n",
        "$$\\Omega = \\text{{unordered sequences of k distinct numbers between 1 and n}}$$\n",
        "\n",
        "$$ |\\Omega| = \\frac{n!}{(n-k)!}$$\n",
        "### Random Sample without Replacement (+ Unordered)\n",
        "$$\\Omega = \\text{{sets of k distrinct balls numbered 1 to n}}$$\n",
        "\n",
        "$$ |\\Omega| = { n \\choose k}$$\n",
        "### Example\n",
        "A gardener has 10 red flowers, 10 yellow flowers and 20 blue flowers. She has to plant them along an alley, in a\n",
        "straight line. There are three restrictions.\n",
        "- (i) A red flower cannot be be next to a red flower.\n",
        "- (ii) A yellow flower cannot be next to a yellow flower.\n",
        "- (iii) A red flower cannot be next to a yellow flower.\n",
        "Flowers of the same color are indistinguishable.\n",
        "\n",
        "How many possible arrangements (orderings) of the flowers are there?\n",
        "\n",
        "Ans:${21 \\choose 10} \\cdot {11 \\choose 10}$\n",
        "\n",
        "Reasoning: There are 21 gaps out of 20 blue flower placement, whereas there are 11 to gaps out of the  21 gaps choose 10\n"
      ],
      "metadata": {
        "id": "i8p1aOvqXMo1"
      }
    }
  ]
}